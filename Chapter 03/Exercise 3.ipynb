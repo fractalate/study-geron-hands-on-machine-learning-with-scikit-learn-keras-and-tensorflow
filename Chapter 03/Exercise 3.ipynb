{
 "cells": [
  {
   "cell_type": "markdown",
   "id": "50dd8691-c1c7-4d6f-a9c0-dd51d6e300a9",
   "metadata": {},
   "source": [
    "# Exercise 3"
   ]
  },
  {
   "cell_type": "code",
   "execution_count": 220,
   "id": "e17e5c93-cc5a-4f4d-9f99-5187e868b4be",
   "metadata": {},
   "outputs": [],
   "source": [
    "from pathlib import Path\n",
    "import random\n",
    "import tarfile\n",
    "import urllib\n",
    "\n",
    "import matplotlib.pyplot as plt\n",
    "import pandas as pd\n",
    "import numpy as np\n",
    "\n",
    "from sklearn.base import BaseEstimator, TransformerMixin\n",
    "from sklearn.compose import ColumnTransformer\n",
    "from sklearn.ensemble import RandomForestClassifier\n",
    "from sklearn.impute import SimpleImputer\n",
    "from sklearn.neighbors import KNeighborsClassifier\n",
    "from sklearn.linear_model import SGDClassifier\n",
    "from sklearn.model_selection import cross_val_score, GridSearchCV\n",
    "from sklearn.pipeline import Pipeline\n",
    "from sklearn.preprocessing import OneHotEncoder, StandardScaler\n",
    "from sklearn.svm import SVC\n",
    "from sklearn.utils.estimator_checks import check_estimator\n",
    "from sklearn.utils.validation import check_array, check_is_fitted"
   ]
  },
  {
   "cell_type": "code",
   "execution_count": 165,
   "id": "cab10b91-3f17-4f2d-9e0d-82e5b4b4ff2c",
   "metadata": {
    "scrolled": true
   },
   "outputs": [
    {
     "name": "stdout",
     "output_type": "stream",
     "text": [
      "<class 'pandas.core.frame.DataFrame'>\n",
      "RangeIndex: 891 entries, 0 to 890\n",
      "Data columns (total 12 columns):\n",
      " #   Column       Non-Null Count  Dtype  \n",
      "---  ------       --------------  -----  \n",
      " 0   PassengerId  891 non-null    int64  \n",
      " 1   Survived     891 non-null    int64  \n",
      " 2   Pclass       891 non-null    int64  \n",
      " 3   Name         891 non-null    object \n",
      " 4   Sex          891 non-null    object \n",
      " 5   Age          714 non-null    float64\n",
      " 6   SibSp        891 non-null    int64  \n",
      " 7   Parch        891 non-null    int64  \n",
      " 8   Ticket       891 non-null    object \n",
      " 9   Fare         891 non-null    float64\n",
      " 10  Cabin        204 non-null    object \n",
      " 11  Embarked     889 non-null    object \n",
      "dtypes: float64(2), int64(5), object(5)\n",
      "memory usage: 83.7+ KB\n",
      "\n",
      "<class 'pandas.core.frame.DataFrame'>\n",
      "RangeIndex: 418 entries, 0 to 417\n",
      "Data columns (total 11 columns):\n",
      " #   Column       Non-Null Count  Dtype  \n",
      "---  ------       --------------  -----  \n",
      " 0   PassengerId  418 non-null    int64  \n",
      " 1   Pclass       418 non-null    int64  \n",
      " 2   Name         418 non-null    object \n",
      " 3   Sex          418 non-null    object \n",
      " 4   Age          332 non-null    float64\n",
      " 5   SibSp        418 non-null    int64  \n",
      " 6   Parch        418 non-null    int64  \n",
      " 7   Ticket       418 non-null    object \n",
      " 8   Fare         417 non-null    float64\n",
      " 9   Cabin        91 non-null     object \n",
      " 10  Embarked     418 non-null    object \n",
      "dtypes: float64(2), int64(4), object(5)\n",
      "memory usage: 36.1+ KB\n",
      "\n",
      "   PassengerId  Survived  Pclass  \\\n",
      "0            1         0       3   \n",
      "1            2         1       1   \n",
      "2            3         1       3   \n",
      "\n",
      "                                                Name     Sex   Age  SibSp  \\\n",
      "0                            Braund, Mr. Owen Harris    male  22.0      1   \n",
      "1  Cumings, Mrs. John Bradley (Florence Briggs Th...  female  38.0      1   \n",
      "2                             Heikkinen, Miss. Laina  female  26.0      0   \n",
      "\n",
      "   Parch            Ticket     Fare Cabin Embarked  \n",
      "0      0         A/5 21171   7.2500   NaN        S  \n",
      "1      0          PC 17599  71.2833   C85        C  \n",
      "2      0  STON/O2. 3101282   7.9250   NaN        S  \n"
     ]
    }
   ],
   "source": [
    "def load_titanic_data():\n",
    "    tarball_path = Path(\"datasets/titanic.tgz\")\n",
    "    if not tarball_path.is_file():\n",
    "        Path(\"datasets\").mkdir(parents=True, exist_ok=True)\n",
    "        url = \"https://raw.githubusercontent.com/ageron/data/main/titanic.tgz\"\n",
    "        urllib.request.urlretrieve(url, tarball_path)\n",
    "    train_path = Path(\"datasets/titanic/train.csv\")\n",
    "    test_path = Path(\"datasets/titanic/test.csv\")\n",
    "    if not train_path.is_file() or not test_path.is_file():\n",
    "        with tarfile.open(tarball_path) as titanic_tarball:\n",
    "            titanic_tarball.extractall(path=\"datasets\")\n",
    "    return (\n",
    "        pd.read_csv(train_path),\n",
    "        pd.read_csv(test_path),\n",
    "    )\n",
    "\n",
    "train_raw, test_raw = load_titanic_data()\n",
    "\n",
    "train_raw.info()\n",
    "print()\n",
    "test_raw.info()  \n",
    "print()\n",
    "print(train_raw[:3])"
   ]
  },
  {
   "cell_type": "markdown",
   "id": "cb9a2e0e-f987-4769-a1fd-a9a38b325f7d",
   "metadata": {},
   "source": [
    "### Notes\n",
    "\n",
    "* 891 samples in the training set.\n",
    "* Most columns are filled with non-null except:\n",
    "  - Age (missing some)\n",
    "  - Cabin (missing a lot)\n",
    "  - Embarked (missing a couple)\n",
    "* What is \"Parch\"?\n",
    "* The test set doesn't have \"Survived\"... it's not very useful (for evaluating the trained model) without it. We'll have to use cross validation techniques."
   ]
  },
  {
   "cell_type": "code",
   "execution_count": 22,
   "id": "000e3cf0-41d4-44eb-97a0-770a4cc5d49e",
   "metadata": {},
   "outputs": [],
   "source": [
    "def data_label_split(data_raw):\n",
    "    y = data_raw['Survived']\n",
    "    X = data_raw.drop('Survived', axis=1)\n",
    "    return X, y\n",
    "\n",
    "X_train, y_train = data_label_split(train_raw)\n",
    "X_test = test_raw"
   ]
  },
  {
   "cell_type": "code",
   "execution_count": 35,
   "id": "414fa3a3-0910-4f03-9c2a-e8ce985c75ae",
   "metadata": {},
   "outputs": [
    {
     "data": {
      "image/png": "[encoded data removed]",
      "text/plain": [
       "<Figure size 1200x800 with 4 Axes>"
      ]
     },
     "metadata": {},
     "output_type": "display_data"
    }
   ],
   "source": [
    "X_train.drop(['PassengerId', 'Pclass'], axis=1).hist(figsize=(12, 8))\n",
    "plt.show()"
   ]
  },
  {
   "cell_type": "code",
   "execution_count": 119,
   "id": "d6b5c7a9-bf9e-45e0-a0cc-f9df56613376",
   "metadata": {},
   "outputs": [
    {
     "data": {
      "image/png": "[encoded data removed]",
      "text/plain": [
       "<Figure size 400x300 with 1 Axes>"
      ]
     },
     "metadata": {},
     "output_type": "display_data"
    }
   ],
   "source": [
    "# We can use an category encoder (like one-hot) to encode this label.\n",
    "X_train['Sex'].value_counts(dropna=False).plot.bar(rot=0, figsize=(4, 3))\n",
    "plt.grid(True)\n",
    "plt.title('Sex')\n",
    "plt.show()"
   ]
  },
  {
   "cell_type": "code",
   "execution_count": 128,
   "id": "56befa06-63ac-467b-9db8-31021a0736b4",
   "metadata": {},
   "outputs": [
    {
     "data": {
      "text/plain": [
       "CabinPrefixF  CabinLetter\n",
       "U             U              687\n",
       "F             C               59\n",
       "              B               47\n",
       "              D               33\n",
       "              E               32\n",
       "              A               15\n",
       "              F                9\n",
       "              G                4\n",
       "T             G                3\n",
       "              E                1\n",
       "F             T                1\n",
       "Name: count, dtype: int64"
      ]
     },
     "execution_count": 128,
     "metadata": {},
     "output_type": "execute_result"
    }
   ],
   "source": [
    "# We expect Cabin values to be a series of A00 style letter number combinations.\n",
    "# They sometimes indicate multiple cabins like \"A00 A01\".\n",
    "# If cabin letter is used for one of the cabins listed, the rest are also the same letter.\n",
    "# Some cabins are prefixed with \"F \" which we break out into its own category.\n",
    "\n",
    "def validate_cabin_breakdown(data):\n",
    "    cabin_breakdown = []\n",
    "    for cabin in data['Cabin']:\n",
    "        values = {\n",
    "            'CabinPrefixF': 'U',\n",
    "            'CabinLetter': 'U',\n",
    "        }\n",
    "        if cabin is not np.nan:\n",
    "            if cabin.startswith('F '):\n",
    "                values['CabinPrefixF'] = 'T'\n",
    "                cabin = cabin[2:]\n",
    "            else:\n",
    "                values['CabinPrefixF'] = 'F'\n",
    "            parts = cabin.split()\n",
    "            letter = parts[0][0]\n",
    "            if letter not in 'ABCDEFGT':\n",
    "                print(cabin)\n",
    "            assert letter in 'ABCDEFGT'\n",
    "            for part in parts[1:]:\n",
    "                if part[0] != letter:\n",
    "                    print(cabin)\n",
    "                assert part[0] == letter\n",
    "            values['CabinLetter'] = letter\n",
    "        cabin_breakdown.append(values)\n",
    "    return pd.DataFrame(cabin_breakdown)\n",
    "\n",
    "cabin_breakdown = validate_cabin_breakdown(X_train)\n",
    "validate_cabin_breakdown(X_test)\n",
    "\n",
    "# We can use one-hot encoders to encode this categorical data.\n",
    "cabin_breakdown = pd.DataFrame(cabin_breakdown)\n",
    "cabin_breakdown.value_counts(dropna=False)"
   ]
  },
  {
   "cell_type": "code",
   "execution_count": 120,
   "id": "17dbb31e-af03-4e4a-9a1d-351c65862a19",
   "metadata": {},
   "outputs": [
    {
     "data": {
      "image/png": "[encoded data removed]",
      "text/plain": [
       "<Figure size 400x300 with 1 Axes>"
      ]
     },
     "metadata": {},
     "output_type": "display_data"
    }
   ],
   "source": [
    "# We can use a categorical encoder (like one-hot) to encode this data.\n",
    "X_train['Embarked'].value_counts().plot.bar(rot=0, figsize=(4, 3))\n",
    "plt.grid(True)\n",
    "plt.title('Embarked')\n",
    "plt.show()"
   ]
  },
  {
   "cell_type": "code",
   "execution_count": 62,
   "id": "fcdad372-f1ab-43fc-b72c-8947b0ff087e",
   "metadata": {},
   "outputs": [
    {
     "data": {
      "text/plain": [
       "['PC 17585',\n",
       " 'CA. 2343',\n",
       " 'PC 17611',\n",
       " '244358',\n",
       " '250651',\n",
       " '2620',\n",
       " 'C 7075',\n",
       " '112050',\n",
       " 'STON/O 2. 3101293',\n",
       " 'SOTON/OQ 392086',\n",
       " 'A.5. 18509',\n",
       " 'PC 17609',\n",
       " '347082',\n",
       " '111320',\n",
       " 'PC 17761',\n",
       " '350036',\n",
       " '364849',\n",
       " 'PC 17485',\n",
       " '370377',\n",
       " '36928']"
      ]
     },
     "execution_count": 62,
     "metadata": {},
     "output_type": "execute_result"
    }
   ],
   "source": [
    "[X_train['Ticket'][random.randint(0, len(X_train) - 1)] for _ in range(20)]"
   ]
  },
  {
   "cell_type": "code",
   "execution_count": 140,
   "id": "8375f5bd-9975-4f93-8da4-62671cd2ff04",
   "metadata": {},
   "outputs": [],
   "source": [
    "def clean_data(data):\n",
    "    cabin_breakdown = validate_cabin_breakdown(data)\n",
    "    out = data.copy()\n",
    "    out['FareLog'] = np.log(out['Fare'] + 1.0)\n",
    "    out['ParchLog'] = np.log(out['Parch'] + 1.0)\n",
    "    out['SibSpLog'] = np.log(out['SibSp'] + 1.0)\n",
    "    out['CabinLetter'] = cabin_breakdown['CabinLetter']\n",
    "    out['CabinPrefixF'] = cabin_breakdown['CabinPrefixF']\n",
    "    return out"
   ]
  },
  {
   "cell_type": "code",
   "execution_count": 241,
   "id": "84f3276a-a955-4405-9d33-8adb2f6faf34",
   "metadata": {},
   "outputs": [
    {
     "name": "stdout",
     "output_type": "stream",
     "text": [
      "['num__Age' 'num__FareLog' 'num__ParchLog' 'num__SibSpLog'\n",
      " 'cat__CabinLetter_A' 'cat__CabinLetter_B' 'cat__CabinLetter_C'\n",
      " 'cat__CabinLetter_D' 'cat__CabinLetter_E' 'cat__CabinLetter_F'\n",
      " 'cat__CabinLetter_G' 'cat__CabinLetter_T' 'cat__CabinLetter_U'\n",
      " 'cat__CabinPrefixF_F' 'cat__CabinPrefixF_T' 'cat__CabinPrefixF_U'\n",
      " 'cat__Embarked_C' 'cat__Embarked_Q' 'cat__Embarked_S' 'cat__Pclass_1'\n",
      " 'cat__Pclass_2' 'cat__Pclass_3' 'cat__Sex_female' 'cat__Sex_male']\n"
     ]
    }
   ],
   "source": [
    "num_attribs = [\n",
    "    'Age',\n",
    "    'FareLog',\n",
    "    'ParchLog',\n",
    "    'SibSpLog',\n",
    "]\n",
    "\n",
    "num_pipeline = Pipeline([\n",
    "    (\"impute\", SimpleImputer(strategy=\"median\")),\n",
    "    (\"standardize\", StandardScaler()),\n",
    "])\n",
    "\n",
    "cat_attribs = [\n",
    "    'CabinLetter',\n",
    "    'CabinPrefixF',\n",
    "    'Embarked',\n",
    "    'Pclass',\n",
    "    'Sex',\n",
    "]\n",
    "\n",
    "cat_pipeline = Pipeline([\n",
    "    ('impute', SimpleImputer(strategy='most_frequent')),  # TODO IDK if I want this?\n",
    "    ('encode', OneHotEncoder(handle_unknown='ignore')),\n",
    "])\n",
    "\n",
    "preprocessing = ColumnTransformer([\n",
    "    ('num', num_pipeline, num_attribs),\n",
    "    ('cat', cat_pipeline, cat_attribs),\n",
    "])\n",
    "\n",
    "X_train_processed = preprocessing.fit_transform(clean_data(X_train))\n",
    "X_test_processed = preprocessing.transform(clean_data(X_test))\n",
    "\n",
    "print(preprocessing.get_feature_names_out())"
   ]
  },
  {
   "cell_type": "code",
   "execution_count": 158,
   "id": "6b2336db-0dd5-40ae-942b-03c5c5d7653f",
   "metadata": {},
   "outputs": [
    {
     "data": {
      "text/plain": [
       "array([0.77441077, 0.82154882, 0.83501684])"
      ]
     },
     "execution_count": 158,
     "metadata": {},
     "output_type": "execute_result"
    }
   ],
   "source": [
    "cross_val_score(KNeighborsClassifier(), X_train_processed, y_train, cv=3, n_jobs=-1)"
   ]
  },
  {
   "cell_type": "code",
   "execution_count": 184,
   "id": "061c6922-42d8-4741-bea1-4c9b836ab24a",
   "metadata": {},
   "outputs": [
    {
     "name": "stdout",
     "output_type": "stream",
     "text": [
      "{'algorithm': 'auto', 'leaf_size': 5, 'n_neighbors': 5, 'p': 1, 'weights': 'uniform'}\n"
     ]
    },
    {
     "data": {
      "text/plain": [
       "array([0.77777778, 0.81818182, 0.83838384])"
      ]
     },
     "execution_count": 184,
     "metadata": {},
     "output_type": "execute_result"
    }
   ],
   "source": [
    "knn_search = GridSearchCV(\n",
    "    KNeighborsClassifier(),\n",
    "    param_grid={\n",
    "        'n_neighbors': [2, 3, 4, 5, 6, 7, 8],\n",
    "        'weights': ['uniform', 'distance'],\n",
    "        'algorithm': ['auto', 'ball_tree', 'kd_tree', 'brute'],\n",
    "        'leaf_size': [5, 10, 15, 20, 25, 30, 35, 40],\n",
    "        'p': [1, 2],\n",
    "    },\n",
    "    cv=3,\n",
    "    n_jobs=-1,\n",
    ")\n",
    "\n",
    "knn_search.fit(X_train_processed, y_train)\n",
    "print(knn_search.best_params_)\n",
    "cross_val_score(knn_search.best_estimator_, X_train_processed, y_train, cv=3, n_jobs=-1)"
   ]
  },
  {
   "cell_type": "code",
   "execution_count": 160,
   "id": "183c7299-e97e-466a-a725-baef1a2eea2d",
   "metadata": {},
   "outputs": [
    {
     "data": {
      "text/plain": [
       "array([0.8013468 , 0.82491582, 0.83164983])"
      ]
     },
     "execution_count": 160,
     "metadata": {},
     "output_type": "execute_result"
    }
   ],
   "source": [
    "cross_val_score(SVC(), X_train_processed, y_train, cv=3, n_jobs=-1)"
   ]
  },
  {
   "cell_type": "code",
   "execution_count": 193,
   "id": "dd4ed45b-f34e-4858-9cd2-105950ad24e3",
   "metadata": {},
   "outputs": [
    {
     "name": "stdout",
     "output_type": "stream",
     "text": [
      "{'C': 2.0, 'decision_function_shape': 'ovo', 'kernel': 'poly', 'probability': True}\n"
     ]
    },
    {
     "data": {
      "text/plain": [
       "array([0.8013468 , 0.82154882, 0.84848485])"
      ]
     },
     "execution_count": 193,
     "metadata": {},
     "output_type": "execute_result"
    }
   ],
   "source": [
    "svc_search = GridSearchCV(\n",
    "    SVC(),\n",
    "    param_grid={\n",
    "        'kernel': ['linear', 'sigmoid', 'rbf', 'poly'],\n",
    "        'C': [0.5, 1.0, 1.5, 2.0, 2.5],\n",
    "        'probability': [True, False],\n",
    "        'decision_function_shape': ['ovo', 'ovr'],\n",
    "    },\n",
    "    cv=3,\n",
    "    n_jobs=-1,\n",
    ")\n",
    "\n",
    "svc_search.fit(X_train_processed, y_train)\n",
    "print(svc_search.best_params_)\n",
    "cross_val_score(svc_search.best_estimator_, X_train_processed, y_train, cv=3, n_jobs=-1)"
   ]
  },
  {
   "cell_type": "code",
   "execution_count": 161,
   "id": "80fe4100-db42-4aab-b055-b3f8549db0c9",
   "metadata": {},
   "outputs": [
    {
     "data": {
      "text/plain": [
       "array([0.61952862, 0.71717172, 0.79461279])"
      ]
     },
     "execution_count": 161,
     "metadata": {},
     "output_type": "execute_result"
    }
   ],
   "source": [
    "cross_val_score(SGDClassifier(), X_train_processed, y_train, cv=3, n_jobs=-1)"
   ]
  },
  {
   "cell_type": "code",
   "execution_count": 203,
   "id": "ac6e8389-c161-44a2-8081-f9125768d09d",
   "metadata": {},
   "outputs": [
    {
     "name": "stdout",
     "output_type": "stream",
     "text": [
      "{'alpha': 0.00015, 'epsilon': 0.2, 'loss': 'squared_error', 'max_iter': 100000, 'penalty': 'l1'}\n"
     ]
    },
    {
     "data": {
      "text/plain": [
       "array([0.7979798 , 0.76094276, 0.78451178])"
      ]
     },
     "execution_count": 203,
     "metadata": {},
     "output_type": "execute_result"
    }
   ],
   "source": [
    "sgd_search = GridSearchCV(\n",
    "    SGDClassifier(),\n",
    "    param_grid={\n",
    "        'loss': [\n",
    "            'hinge',\n",
    "            'log_loss',\n",
    "            'modified_huber',\n",
    "            'squared_hinge',\n",
    "            'perceptron',\n",
    "            'squared_error',\n",
    "            'huber',\n",
    "            'epsilon_insensitive',\n",
    "            'squared_epsilon_insensitive',\n",
    "        ],\n",
    "        'penalty': ['l2', 'l1', 'elasticnet'],\n",
    "        'epsilon': [0.05, 0.10, 0.15, 0.20],\n",
    "        'alpha': [0.00005, 0.0001, 0.00015, 0.0002],\n",
    "        'max_iter': [100000],\n",
    "    },\n",
    "    cv=3,\n",
    "    n_jobs=-1,\n",
    ")\n",
    "\n",
    "sgd_search.fit(X_train_processed, y_train)\n",
    "print(sgd_search.best_params_)\n",
    "cross_val_score(sgd_search.best_estimator_, X_train_processed, y_train, cv=3, n_jobs=-1)"
   ]
  },
  {
   "cell_type": "code",
   "execution_count": 162,
   "id": "10cacbff-e052-433c-8be5-2c5b2db65323",
   "metadata": {},
   "outputs": [
    {
     "data": {
      "text/plain": [
       "array([0.76767677, 0.7979798 , 0.8047138 ])"
      ]
     },
     "execution_count": 162,
     "metadata": {},
     "output_type": "execute_result"
    }
   ],
   "source": [
    "cross_val_score(RandomForestClassifier(), X_train_processed, y_train, cv=3, n_jobs=-1)"
   ]
  },
  {
   "cell_type": "code",
   "execution_count": 204,
   "id": "5a57eba4-68c0-4191-91d9-9236ee8ac25d",
   "metadata": {},
   "outputs": [
    {
     "name": "stdout",
     "output_type": "stream",
     "text": [
      "{'criterion': 'gini', 'max_features': 6}\n"
     ]
    },
    {
     "data": {
      "text/plain": [
       "array([0.77441077, 0.81481481, 0.79461279])"
      ]
     },
     "execution_count": 204,
     "metadata": {},
     "output_type": "execute_result"
    }
   ],
   "source": [
    "rf_search = GridSearchCV(\n",
    "    RandomForestClassifier(),\n",
    "    param_grid={\n",
    "        'criterion': [\n",
    "            'gini', 'entropy', 'log_loss',\n",
    "        ],\n",
    "        'max_features': ['sqrt', 'log2', 2, 3, 4, 5, 6, 7, 8],\n",
    "    },\n",
    "    cv=3,\n",
    "    n_jobs=-1,\n",
    ")\n",
    "\n",
    "rf_search.fit(X_train_processed, y_train)\n",
    "print(rf_search.best_params_)\n",
    "cross_val_score(rf_search.best_estimator_, X_train_processed, y_train, cv=3, n_jobs=-1)"
   ]
  },
  {
   "cell_type": "code",
   "execution_count": 227,
   "id": "de2950cb-9ad3-4034-814e-26a9f73db5be",
   "metadata": {},
   "outputs": [],
   "source": [
    "# Food for thought: can I make a custom Transform class to do the data preparation?"
   ]
  },
  {
   "cell_type": "code",
   "execution_count": 251,
   "id": "6de75fd1-169a-43b2-975e-40f3dafd94f9",
   "metadata": {},
   "outputs": [
    {
     "name": "stdout",
     "output_type": "stream",
     "text": [
      "Survivor Rate: 37.56%\n"
     ]
    }
   ],
   "source": [
    "best_estimator = svc_search.best_estimator_\n",
    "\n",
    "y_test_pred = best_estimator.predict(X_test_processed)\n",
    "\n",
    "number_of_people = len(y_test_pred)\n",
    "number_of_survivors = y_test_pred.sum()\n",
    "print(f'Survivor Rate: {number_of_survivors / number_of_people * 100:.2f}%')"
   ]
  },
  {
   "cell_type": "code",
   "execution_count": 252,
   "id": "a8517387-7b05-49cf-b86e-56973c93340c",
   "metadata": {},
   "outputs": [
    {
     "name": "stdout",
     "output_type": "stream",
     "text": [
      "Total Survivor Rate: 38.12%\n"
     ]
    }
   ],
   "source": [
    "total_people = len(y_test_pred) + len(y_train)\n",
    "total_survivors = y_test_pred.sum() + y_train.sum()\n",
    "\n",
    "print(f'Total Survivor Rate: {total_survivors / total_people * 100:.2f}%')"
   ]
  },
  {
   "cell_type": "code",
   "execution_count": 254,
   "id": "8bfb4404-3a98-4204-810a-0fb4f5e2565d",
   "metadata": {},
   "outputs": [],
   "source": [
    "# There were 2208 passengers on the Titanic and 1501 perished.\n",
    "# The actual survival rate was 32.0%, so we're off by a bit.\n",
    "# Also, our dataset is not complete."
   ]
  },
  {
   "cell_type": "code",
   "execution_count": null,
   "id": "83edac0f-6435-4397-9bd9-95bd3390bed6",
   "metadata": {},
   "outputs": [],
   "source": []
  }
 ],
 "metadata": {
  "kernelspec": {
   "display_name": "Python 3 (ipykernel)",
   "language": "python",
   "name": "python3"
  },
  "language_info": {
   "codemirror_mode": {
    "name": "ipython",
    "version": 3
   },
   "file_extension": ".py",
   "mimetype": "text/x-python",
   "name": "python",
   "nbconvert_exporter": "python",
   "pygments_lexer": "ipython3",
   "version": "3.11.2"
  }
 },
 "nbformat": 4,
 "nbformat_minor": 5
}
