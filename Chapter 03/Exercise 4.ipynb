{
 "cells": [
  {
   "cell_type": "code",
   "execution_count": 31,
   "id": "3e03afe6-2731-493c-90c4-c42883eab1b7",
   "metadata": {},
   "outputs": [],
   "source": [
    "from typing import List\n",
    "\n",
    "from pathlib import Path\n",
    "import random\n",
    "import re\n",
    "import tarfile\n",
    "import urllib\n",
    "\n",
    "import matplotlib.pyplot as plt\n",
    "import pandas as pd\n",
    "import numpy as np"
   ]
  },
  {
   "cell_type": "code",
   "execution_count": 20,
   "id": "cda66a4a-b609-4e47-b086-4f8e1113e9b7",
   "metadata": {},
   "outputs": [
    {
     "name": "stdout",
     "output_type": "stream",
     "text": [
      "easy_ham has 2500 samples\n",
      "easy_ham_2 has 1400 samples\n",
      "hard_ham has 250 samples\n",
      "spam has 500 samples\n",
      "spam_2 has 1396 samples\n"
     ]
    }
   ],
   "source": [
    "def is_spamassassin_sample(filename: Path):\n",
    "    # Spamassassin samples have a filename which is a serial number followed by a md5sum\n",
    "    # of the contents of the email.\n",
    "    return bool(re.match(\"^\\d{5}.[0-9a-f]{32}\", filename.absolute().name))\n",
    "\n",
    "def load_samples_from_tarball(dataset_name: str, tarball_name: str) -> List[Path]:\n",
    "    tarball_path = Path(\"datasets/\" + tarball_name)\n",
    "    if not tarball_path.is_file():\n",
    "        Path(\"datasets\").mkdir(parents=True, exist_ok=True)\n",
    "        url = \"https://spamassassin.apache.org/old/publiccorpus/\" + tarball_name\n",
    "        urllib.request.urlretrieve(url, tarball_path)\n",
    "\n",
    "    if not Path(\"datasets/\" + dataset_name).is_dir():\n",
    "        Path(\"datasets/\" + dataset_name).mkdir(parents=True, exist_ok=True)\n",
    "\n",
    "    already_extracted = False\n",
    "    for filename in Path(\"datasets/\" + dataset_name).iterdir():\n",
    "        if is_spamassassin_sample(filename):\n",
    "            already_extracted = True\n",
    "            break\n",
    "\n",
    "    if not already_extracted:\n",
    "        with tarfile.open(tarball_path) as tarball:\n",
    "            tarball.extractall(path=\"datasets\")\n",
    "\n",
    "    result = []\n",
    "    for filename in Path(\"datasets/\" + dataset_name).iterdir():\n",
    "        if is_spamassassin_sample(filename):\n",
    "            result.append(filename)\n",
    "\n",
    "    return result\n",
    "\n",
    "def load_samples():\n",
    "    return {\n",
    "        \"easy_ham\": load_samples_from_tarball(\"easy_ham\", \"20030228_easy_ham.tar.bz2\"),\n",
    "        \"easy_ham_2\": load_samples_from_tarball(\"easy_ham_2\", \"20030228_easy_ham_2.tar.bz2\"),\n",
    "        \"hard_ham\": load_samples_from_tarball(\"hard_ham\", \"20030228_hard_ham.tar.bz2\"),\n",
    "        \"spam\": load_samples_from_tarball(\"spam\", \"20030228_spam.tar.bz2\"),\n",
    "        \"spam_2\": load_samples_from_tarball(\"spam_2\", \"20050311_spam_2.tar.bz2\"),\n",
    "    }\n",
    "    \n",
    "raw_data = load_samples()\n",
    "for dataset_name, filenames in sorted(out.items()):\n",
    "    print(f\"{dataset_name} has {len(filenames)} samples\")"
   ]
  },
  {
   "cell_type": "code",
   "execution_count": 41,
   "id": "147c8ef6-fb3b-4ff9-9bfc-d93d4e887b57",
   "metadata": {},
   "outputs": [
    {
     "name": "stdout",
     "output_type": "stream",
     "text": [
      "Training set is 4834 samples with 31.63% spam\n",
      "Test set is 1212 samples with 30.28% spam\n",
      "Test set is 20.05% of the samples\n"
     ]
    }
   ],
   "source": [
    "# 0xCD / 0x100 = 0.80078125, so if the last 2 digits of the md5sum are\n",
    "# less than CD, then then it's part of the training set. Otherwise it's\n",
    "# in the test set.\n",
    "def is_filename_in_training_set(filename: Path):\n",
    "    assert is_spamassassin_sample(filename)\n",
    "    tail = filename.absolute().name[-2:]\n",
    "    return int('0x' + tail, 16) < 0xCD\n",
    "\n",
    "train_filenames = []\n",
    "train_labels = []\n",
    "test_filenames = []\n",
    "test_labels = []\n",
    "\n",
    "count_train_spams = 0\n",
    "count_test_spams = 0\n",
    "\n",
    "for dataset_name, filenames in sorted(out.items()):\n",
    "    for filename in filenames:\n",
    "        is_spam = \"spam\" in dataset_name\n",
    "        if is_filename_in_training_set(filename):\n",
    "            train_filenames.append(filename)\n",
    "            train_labels.append(is_spam)\n",
    "            if is_spam:\n",
    "                count_train_spams += 1\n",
    "        else:\n",
    "            test_filenames.append(filename)\n",
    "            test_labels.append(is_spam)\n",
    "            if is_spam:\n",
    "                count_test_spams += 1\n",
    "\n",
    "train_percent_spam = count_train_spams / (len(train_filenames))\n",
    "test_percent_spam = count_test_spams / (len(test_filenames))\n",
    "test_percent = len(test_filenames) / (len(train_filenames) + len(test_filenames))\n",
    "\n",
    "print(f\"Training set is {len(train_filenames)} samples with {train_percent_spam*100:.2f}% spam\")\n",
    "print(f\"Test set is {len(test_filenames)} samples with {test_percent_spam*100:.2f}% spam\")\n",
    "print(f\"Test set is {test_percent*100:.2f}% of the samples\")\n",
    "\n",
    "train_shuffled = list(zip(train_filenames, train_labels))\n",
    "random.shuffle(train_shuffled)\n",
    "train_filenames, train_labels = zip(*train_shuffled)\n",
    "\n",
    "test_shuffled = list(zip(test_filenames, test_labels))\n",
    "random.shuffle(test_shuffled)\n",
    "test_filenames, test_labels = zip(*test_shuffled)"
   ]
  },
  {
   "cell_type": "code",
   "execution_count": null,
   "id": "3b1bf7e7-67b7-4445-bca3-39e3a35e2542",
   "metadata": {},
   "outputs": [],
   "source": []
  }
 ],
 "metadata": {
  "kernelspec": {
   "display_name": "Python 3 (ipykernel)",
   "language": "python",
   "name": "python3"
  },
  "language_info": {
   "codemirror_mode": {
    "name": "ipython",
    "version": 3
   },
   "file_extension": ".py",
   "mimetype": "text/x-python",
   "name": "python",
   "nbconvert_exporter": "python",
   "pygments_lexer": "ipython3",
   "version": "3.11.2"
  }
 },
 "nbformat": 4,
 "nbformat_minor": 5
}
